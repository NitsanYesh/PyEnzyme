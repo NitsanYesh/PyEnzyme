{
 "cells": [
  {
   "cell_type": "code",
   "execution_count": 2,
   "metadata": {},
   "outputs": [],
   "source": [
    "\n",
    "\n",
    "import pandas as pd\n",
    "%load_ext autoreload\n",
    "%autoreload 2\n",
    "from pyenzyme.enzymeml.core.enzymemldocument import EnzymeMLDocument\n"
   ]
  },
  {
   "cell_type": "code",
   "execution_count": null,
   "metadata": {},
   "outputs": [],
   "source": []
  },
  {
   "cell_type": "code",
   "execution_count": 3,
   "metadata": {},
   "outputs": [],
   "source": [
    "temp_path = \"/Users/max/Downloads/EnzymeML template 96WP draft-0.1.4.xlsm\""
   ]
  },
  {
   "cell_type": "code",
   "execution_count": 17,
   "metadata": {},
   "outputs": [],
   "source": [
    "nu_template = \"/Users/max/Downloads/EnzymeML template 96WP draft-0.2.3.xlsm\""
   ]
  },
  {
   "cell_type": "code",
   "execution_count": 60,
   "metadata": {},
   "outputs": [
    {
     "name": "stderr",
     "output_type": "stream",
     "text": [
      "/Users/max/miniconda3/envs/pyenzyme/lib/python3.11/site-packages/openpyxl/worksheet/_reader.py:329: UserWarning: Data Validation extension is not supported and will be removed\n",
      "  warn(msg)\n",
      "/Users/max/miniconda3/envs/pyenzyme/lib/python3.11/site-packages/openpyxl/worksheet/_reader.py:329: UserWarning: Data Validation extension is not supported and will be removed\n",
      "  warn(msg)\n",
      "/Users/max/miniconda3/envs/pyenzyme/lib/python3.11/site-packages/openpyxl/worksheet/_reader.py:329: UserWarning: Data Validation extension is not supported and will be removed\n",
      "  warn(msg)\n",
      "/Users/max/miniconda3/envs/pyenzyme/lib/python3.11/site-packages/openpyxl/worksheet/_reader.py:329: UserWarning: Data Validation extension is not supported and will be removed\n",
      "  warn(msg)\n",
      "/Users/max/miniconda3/envs/pyenzyme/lib/python3.11/site-packages/openpyxl/worksheet/_reader.py:329: UserWarning: Data Validation extension is not supported and will be removed\n",
      "  warn(msg)\n",
      "/Users/max/miniconda3/envs/pyenzyme/lib/python3.11/site-packages/openpyxl/worksheet/_reader.py:329: UserWarning: Data Validation extension is not supported and will be removed\n",
      "  warn(msg)\n"
     ]
    }
   ],
   "source": [
    "doc2 = EnzymeMLDocument.fromTemplate(nu_template)"
   ]
  },
  {
   "cell_type": "code",
   "execution_count": 61,
   "metadata": {},
   "outputs": [
    {
     "data": {
      "text/plain": [
       "{'s0': Reactant(name='Pyruvate', meta_id='METAID_S0', id='s0', vessel_id='v0', init_conc=None, constant=False, boundary=False, unit=None, ontology=<SBOTerm.SMALL_MOLECULE: 'SBO:0000247'>, uri=None, creator_id=None, smiles='O=CCO', inchi='InChI=1S/C2H4O2/c3-1-2-4/h1,4H,2H2\\xa0', chebi_id=None),\n",
       " 's1': Reactant(name='CO2', meta_id='METAID_S1', id='s1', vessel_id='v0', init_conc=None, constant=False, boundary=False, unit=None, ontology=<SBOTerm.SMALL_MOLECULE: 'SBO:0000247'>, uri=None, creator_id=None, smiles='O=C=O', inchi=None, chebi_id=None)}"
      ]
     },
     "execution_count": 61,
     "metadata": {},
     "output_type": "execute_result"
    }
   ],
   "source": [
    "doc2.reactant_dict"
   ]
  }
 ],
 "metadata": {
  "kernelspec": {
   "display_name": "base",
   "language": "python",
   "name": "python3"
  },
  "language_info": {
   "codemirror_mode": {
    "name": "ipython",
    "version": 3
   },
   "file_extension": ".py",
   "mimetype": "text/x-python",
   "name": "python",
   "nbconvert_exporter": "python",
   "pygments_lexer": "ipython3",
   "version": "3.11.4"
  },
  "orig_nbformat": 4
 },
 "nbformat": 4,
 "nbformat_minor": 2
}
