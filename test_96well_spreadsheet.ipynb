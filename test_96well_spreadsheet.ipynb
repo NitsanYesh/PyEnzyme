{
 "cells": [
  {
   "cell_type": "code",
   "execution_count": 1,
   "metadata": {},
   "outputs": [],
   "source": [
    "import pandas as pd\n",
    "%load_ext autoreload\n",
    "%autoreload 2\n",
    "from pyenzyme.enzymeml.core.enzymemldocument import EnzymeMLDocument\n"
   ]
  },
  {
   "cell_type": "code",
   "execution_count": 2,
   "metadata": {},
   "outputs": [],
   "source": [
    "temp_path = \"/Users/max/Downloads/EnzymeML template 96WP draft-0.1.4.xlsm\""
   ]
  },
  {
   "cell_type": "code",
   "execution_count": 3,
   "metadata": {},
   "outputs": [],
   "source": [
    "nu_template = \"/Users/max/Downloads/EnzymeML template 96WP draft-0.2.2.xlsm\""
   ]
  },
  {
   "cell_type": "code",
   "execution_count": 4,
   "metadata": {},
   "outputs": [
    {
     "name": "stdout",
     "output_type": "stream",
     "text": [
      "{'ID': 'v0', 'Name': 'flat bottom plate', 'Volume value': 200, 'Volume unit': 'ul'}\n"
     ]
    },
    {
     "name": "stderr",
     "output_type": "stream",
     "text": [
      "/Users/max/miniconda3/envs/pyenzyme/lib/python3.11/site-packages/openpyxl/worksheet/_reader.py:329: UserWarning: Data Validation extension is not supported and will be removed\n",
      "  warn(msg)\n",
      "/Users/max/miniconda3/envs/pyenzyme/lib/python3.11/site-packages/openpyxl/worksheet/_reader.py:329: UserWarning: Data Validation extension is not supported and will be removed\n",
      "  warn(msg)\n"
     ]
    },
    {
     "ename": "KeyError",
     "evalue": "'Reaction temperature'",
     "output_type": "error",
     "traceback": [
      "\u001b[0;31m---------------------------------------------------------------------------\u001b[0m",
      "\u001b[0;31mKeyError\u001b[0m                                  Traceback (most recent call last)",
      "Cell \u001b[0;32mIn[4], line 1\u001b[0m\n\u001b[0;32m----> 1\u001b[0m doc \u001b[39m=\u001b[39m EnzymeMLDocument\u001b[39m.\u001b[39;49mfromTemplate(temp_path)\n",
      "File \u001b[0;32m~/Documents/GitHub/PyEnzyme/pyenzyme/enzymeml/core/enzymemldocument.py:202\u001b[0m, in \u001b[0;36mEnzymeMLDocument.fromTemplate\u001b[0;34m(cls, path)\u001b[0m\n\u001b[1;32m    199\u001b[0m template_type \u001b[39m=\u001b[39m pd\u001b[39m.\u001b[39mread_excel(\n\u001b[1;32m    200\u001b[0m     path, sheet_name\u001b[39m=\u001b[39m\u001b[39m\"\u001b[39m\u001b[39mGeneral Information\u001b[39m\u001b[39m\"\u001b[39m)\u001b[39m.\u001b[39mcolumns[\u001b[39m0\u001b[39m]\u001b[39m.\u001b[39mstrip()\n\u001b[1;32m    201\u001b[0m \u001b[39mif\u001b[39;00m \u001b[39m\"\u001b[39m\u001b[39m96well\u001b[39m\u001b[39m\"\u001b[39m \u001b[39min\u001b[39;00m template_type:\n\u001b[0;32m--> 202\u001b[0m     \u001b[39mreturn\u001b[39;00m read_96well_template(path, \u001b[39mcls\u001b[39;49m)\n\u001b[1;32m    204\u001b[0m \u001b[39melse\u001b[39;00m:\n\u001b[1;32m    205\u001b[0m     \u001b[39mreturn\u001b[39;00m read_template(path, \u001b[39mcls\u001b[39m)\n",
      "File \u001b[0;32m~/Documents/GitHub/PyEnzyme/pyenzyme/enzymeml/tools/templatereader_96well.py:131\u001b[0m, in \u001b[0;36mread_96well_template\u001b[0;34m(path, enzmldoc)\u001b[0m\n\u001b[1;32m    127\u001b[0m unit \u001b[39m=\u001b[39m get_species_unit(path, reactant_name)\n\u001b[1;32m    128\u001b[0m init_concs \u001b[39m=\u001b[39m extract_initial_conditions(\n\u001b[1;32m    129\u001b[0m     path, reactant_name)\n\u001b[0;32m--> 131\u001b[0m measurement\u001b[39m.\u001b[39mtemperature \u001b[39m=\u001b[39m vessel_info[\u001b[39m\"\u001b[39;49m\u001b[39mReaction temperature\u001b[39;49m\u001b[39m\"\u001b[39;49m]\n\u001b[1;32m    132\u001b[0m measurement\u001b[39m.\u001b[39mtemperature_unit \u001b[39m=\u001b[39m vessel_info[\u001b[39m\"\u001b[39m\u001b[39mTemperature unit\u001b[39m\u001b[39m\"\u001b[39m]\n\u001b[1;32m    133\u001b[0m measurement\u001b[39m.\u001b[39maddData(\n\u001b[1;32m    134\u001b[0m     init_conc\u001b[39m=\u001b[39minit_concs[measurement\u001b[39m.\u001b[39mname],\n\u001b[1;32m    135\u001b[0m     unit\u001b[39m=\u001b[39munit,\n\u001b[1;32m    136\u001b[0m     reactant_id\u001b[39m=\u001b[39mreactant_id\n\u001b[1;32m    137\u001b[0m )\n",
      "\u001b[0;31mKeyError\u001b[0m: 'Reaction temperature'"
     ]
    }
   ],
   "source": [
    "doc = EnzymeMLDocument.fromTemplate(temp_path)"
   ]
  },
  {
   "cell_type": "code",
   "execution_count": 5,
   "metadata": {},
   "outputs": [
    {
     "ename": "NameError",
     "evalue": "name 'doc' is not defined",
     "output_type": "error",
     "traceback": [
      "\u001b[0;31m---------------------------------------------------------------------------\u001b[0m",
      "\u001b[0;31mNameError\u001b[0m                                 Traceback (most recent call last)",
      "Cell \u001b[0;32mIn[5], line 1\u001b[0m\n\u001b[0;32m----> 1\u001b[0m doc\u001b[39m.\u001b[39mgetMeasurement(\u001b[39m\"\u001b[39m\u001b[39mm0\u001b[39m\u001b[39m\"\u001b[39m)\u001b[39m.\u001b[39m\u001b[39m__dict__\u001b[39m\n",
      "\u001b[0;31mNameError\u001b[0m: name 'doc' is not defined"
     ]
    }
   ],
   "source": [
    "doc.getMeasurement(\"m0\").__dict__"
   ]
  },
  {
   "cell_type": "code",
   "execution_count": 48,
   "metadata": {},
   "outputs": [
    {
     "name": "stderr",
     "output_type": "stream",
     "text": [
      "/Users/max/miniconda3/envs/pyenzyme/lib/python3.11/site-packages/openpyxl/worksheet/_reader.py:329: UserWarning: Data Validation extension is not supported and will be removed\n",
      "  warn(msg)\n",
      "/Users/max/miniconda3/envs/pyenzyme/lib/python3.11/site-packages/openpyxl/worksheet/_reader.py:329: UserWarning: Data Validation extension is not supported and will be removed\n",
      "  warn(msg)\n",
      "/Users/max/miniconda3/envs/pyenzyme/lib/python3.11/site-packages/openpyxl/worksheet/_reader.py:329: UserWarning: Data Validation extension is not supported and will be removed\n",
      "  warn(msg)\n",
      "/Users/max/miniconda3/envs/pyenzyme/lib/python3.11/site-packages/openpyxl/worksheet/_reader.py:329: UserWarning: Data Validation extension is not supported and will be removed\n",
      "  warn(msg)\n",
      "/Users/max/miniconda3/envs/pyenzyme/lib/python3.11/site-packages/openpyxl/worksheet/_reader.py:329: UserWarning: Data Validation extension is not supported and will be removed\n",
      "  warn(msg)\n"
     ]
    },
    {
     "name": "stdout",
     "output_type": "stream",
     "text": [
      "                                                    ID      Name  \\\n",
      "0                                                   s0  Pyruvate   \n",
      "1                                                   s1       CO2   \n",
      "2                                                  NaN       NaN   \n",
      "3                                                  NaN       NaN   \n",
      "4                                                  NaN       NaN   \n",
      "..                                                 ...       ...   \n",
      "195                                                NaN       NaN   \n",
      "196                                                NaN       NaN   \n",
      "197                                                NaN       NaN   \n",
      "198                                                NaN       NaN   \n",
      "199  This sheet can't handle more than 200 chemical...       NaN   \n",
      "\n",
      "         Constant SMILES                                InCHI  \n",
      "0    Not constant  O=CCO  InChI=1S/C2H4O2/c3-1-2-4/h1,4H,2H2   \n",
      "1    Not constant  O=C=O                                  NaN  \n",
      "2             NaN    NaN                                  NaN  \n",
      "3             NaN    NaN                                  NaN  \n",
      "4             NaN    NaN                                  NaN  \n",
      "..            ...    ...                                  ...  \n",
      "195           NaN    NaN                                  NaN  \n",
      "196           NaN    NaN                                  NaN  \n",
      "197           NaN    NaN                                  NaN  \n",
      "198           NaN    NaN                                  NaN  \n",
      "199           NaN    NaN                                  NaN  \n",
      "\n",
      "[200 rows x 5 columns]\n"
     ]
    },
    {
     "name": "stderr",
     "output_type": "stream",
     "text": [
      "/Users/max/miniconda3/envs/pyenzyme/lib/python3.11/site-packages/openpyxl/worksheet/_reader.py:329: UserWarning: Data Validation extension is not supported and will be removed\n",
      "  warn(msg)\n"
     ]
    }
   ],
   "source": [
    "doc2 = EnzymeMLDocument.fromTemplate(nu_template)"
   ]
  },
  {
   "cell_type": "code",
   "execution_count": 50,
   "metadata": {},
   "outputs": [
    {
     "data": {
      "text/plain": [
       "Reactant(name='Pyruvate', meta_id='METAID_S0', id='s0', vessel_id='v0', init_conc=None, constant=False, boundary=False, unit=None, ontology=<SBOTerm.SMALL_MOLECULE: 'SBO:0000247'>, uri=None, creator_id=None, smiles='O=CCO', inchi='InChI=1S/C2H4O2/c3-1-2-4/h1,4H,2H2\\xa0', chebi_id=None)"
      ]
     },
     "execution_count": 50,
     "metadata": {},
     "output_type": "execute_result"
    }
   ],
   "source": [
    "doc2.reactant_dict[\"s0\"]"
   ]
  }
 ],
 "metadata": {
  "kernelspec": {
   "display_name": "base",
   "language": "python",
   "name": "python3"
  },
  "language_info": {
   "codemirror_mode": {
    "name": "ipython",
    "version": 3
   },
   "file_extension": ".py",
   "mimetype": "text/x-python",
   "name": "python",
   "nbconvert_exporter": "python",
   "pygments_lexer": "ipython3",
   "version": "3.11.4"
  },
  "orig_nbformat": 4
 },
 "nbformat": 4,
 "nbformat_minor": 2
}
